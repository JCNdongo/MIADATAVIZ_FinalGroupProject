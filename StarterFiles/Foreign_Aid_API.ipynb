{
 "cells": [
  {
   "cell_type": "code",
   "execution_count": 1,
   "id": "46f648e2",
   "metadata": {},
   "outputs": [],
   "source": [
    "#import dependencies\n",
    "import requests\n",
    "import json\n",
    "import pandas as pd"
   ]
  },
  {
   "cell_type": "code",
   "execution_count": 2,
   "id": "7de99850",
   "metadata": {},
   "outputs": [],
   "source": [
    "# URL to retrieve Foreign Aid data using API\n",
    "url = \"https://data.usaid.gov/resource/i37f-rwxd.json\""
   ]
  },
  {
   "cell_type": "code",
   "execution_count": 3,
   "id": "4855b346",
   "metadata": {},
   "outputs": [],
   "source": [
    "# Store the response as a variable\n",
    "response = requests.get(url)"
   ]
  },
  {
   "cell_type": "code",
   "execution_count": 4,
   "id": "0d8b1622",
   "metadata": {},
   "outputs": [],
   "source": [
    "# Convert the response to JSON\n",
    "data = response.json()"
   ]
  },
  {
   "cell_type": "code",
   "execution_count": 5,
   "id": "6bee4042",
   "metadata": {},
   "outputs": [
    {
     "name": "stdout",
     "output_type": "stream",
     "text": [
      "  activity_number activity_title       activity_description fiscal_year  \\\n",
      "0            1269       Untitled  No description available.        1999   \n",
      "1            1245       Untitled  No description available.        1999   \n",
      "2            1214       Untitled  No description available.        1999   \n",
      "3            1238       Untitled  No description available.        1999   \n",
      "4            1260       Untitled  No description available.        1999   \n",
      "\n",
      "                                      funding_agency  \\\n",
      "0  U.S. Agency for International Development (USAID)   \n",
      "1                               Unknown - Historical   \n",
      "2  U.S. Agency for International Development (USAID)   \n",
      "3  U.S. Agency for International Development (USAID)   \n",
      "4  U.S. Agency for International Development (USAID)   \n",
      "\n",
      "                                 implementing_agency  \\\n",
      "0                      U.S. Government (unspecified)   \n",
      "1                   Department of Agriculture (USDA)   \n",
      "2  U.S. Agency for International Development (USAID)   \n",
      "3  U.S. Agency for International Development (USAID)   \n",
      "4                      U.S. Government (unspecified)   \n",
      "\n",
      "               implementing_subagency benefitting_country_or_region  \\\n",
      "0           Not specified (1999-2001)                        Zambia   \n",
      "1  Foreign Agricultural Service (FAS)                       Senegal   \n",
      "2                            Caucasus                       Georgia   \n",
      "3                               Haiti                         Haiti   \n",
      "4           Not specified (1999-2001)                         Ghana   \n",
      "\n",
      "  country_code              region      income_group_wb  \\\n",
      "0          ZMB  Sub-Saharan Africa  Lower Middle Income   \n",
      "1          SEN  Sub-Saharan Africa  Lower Middle Income   \n",
      "2          GEO  Europe and Eurasia  Upper Middle Income   \n",
      "3          HTI  Western Hemisphere           Low Income   \n",
      "4          GHA  Sub-Saharan Africa  Lower Middle Income   \n",
      "\n",
      "                                        tcb_category fiscal_year_obligations  \\\n",
      "0             General trade facilitation (1999-2001)                  100000   \n",
      "1                          Trade-related Agriculture                    8700   \n",
      "2  Competition Policy, Business Environment, and ...                  650000   \n",
      "3         Trade-related Services (excluding Tourism)                  500000   \n",
      "4                       Trade-related Infrastructure                  400000   \n",
      "\n",
      "  fiscal_year_obligations_1  \n",
      "0              148959.83253  \n",
      "1               12959.50543  \n",
      "2              968238.91142  \n",
      "3              744799.16263  \n",
      "4              595839.33011  \n"
     ]
    }
   ],
   "source": [
    "# Create a DataFrame with all the data\n",
    "df = pd.DataFrame(data)\n",
    "\n",
    "# Print the first few rows of the DataFrame to verify the data\n",
    "print(df.head())\n"
   ]
  },
  {
   "cell_type": "code",
   "execution_count": 6,
   "id": "5a23d6c3",
   "metadata": {},
   "outputs": [],
   "source": [
    "# Aggregate the data by country for 2020\n",
    "aggregated_data = df.groupby([\"country_code\"], as_index=False).agg({\n",
    "    \"benefitting_country_or_region\": \"first\",\n",
    "    \"income_group_wb\": \"first\",\n",
    "    \"implementing_agency\": \"first\",\n",
    "    \"fiscal_year_obligations\": \"first\"\n",
    "})"
   ]
  },
  {
   "cell_type": "code",
   "execution_count": 7,
   "id": "cee8f399",
   "metadata": {},
   "outputs": [
    {
     "data": {
      "text/plain": [
       "(112, 5)"
      ]
     },
     "execution_count": 7,
     "metadata": {},
     "output_type": "execute_result"
    }
   ],
   "source": [
    "aggregated_data.shape"
   ]
  },
  {
   "cell_type": "code",
   "execution_count": 8,
   "id": "b014b3da",
   "metadata": {},
   "outputs": [],
   "source": [
    "# Define the CSV file path\n",
    "csv_file_path = \"foreign_aid_2020_aggregated.csv\"\n",
    "\n",
    "# Export the aggregated data to a CSV file\n",
    "aggregated_data.to_csv(csv_file_path, index=False, encoding=\"utf-8\")"
   ]
  }
 ],
 "metadata": {
  "kernelspec": {
   "display_name": "PythonData",
   "language": "python",
   "name": "pythondata"
  },
  "language_info": {
   "codemirror_mode": {
    "name": "ipython",
    "version": 3
   },
   "file_extension": ".py",
   "mimetype": "text/x-python",
   "name": "python",
   "nbconvert_exporter": "python",
   "pygments_lexer": "ipython3",
   "version": "3.7.7"
  }
 },
 "nbformat": 4,
 "nbformat_minor": 5
}
