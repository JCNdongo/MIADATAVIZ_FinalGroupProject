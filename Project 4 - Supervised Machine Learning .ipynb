{
 "cells": [
  {
   "cell_type": "code",
   "execution_count": 59,
   "id": "3d459785",
   "metadata": {},
   "outputs": [],
   "source": [
    "import pandas as pd\n",
    "from pathlib import Path\n",
    "import numpy as np\n",
    "import hvplot.pandas\n",
    "from sklearn.model_selection import train_test_split\n",
    "from sklearn.linear_model import LinearRegression\n",
    "from sklearn.metrics import mean_absolute_error\n",
    "from sklearn.neighbors import KNeighborsRegressor\n",
    "from sklearn.metrics import mean_squared_error, r2_score\n",
    "import statsmodels.api as sm\n",
    "import matplotlib.pyplot as plt"
   ]
  },
  {
   "cell_type": "code",
   "execution_count": 31,
   "id": "e2fd8803",
   "metadata": {},
   "outputs": [
    {
     "data": {
      "text/html": [
       "<div>\n",
       "<style scoped>\n",
       "    .dataframe tbody tr th:only-of-type {\n",
       "        vertical-align: middle;\n",
       "    }\n",
       "\n",
       "    .dataframe tbody tr th {\n",
       "        vertical-align: top;\n",
       "    }\n",
       "\n",
       "    .dataframe thead th {\n",
       "        text-align: right;\n",
       "    }\n",
       "</style>\n",
       "<table border=\"1\" class=\"dataframe\">\n",
       "  <thead>\n",
       "    <tr style=\"text-align: right;\">\n",
       "      <th></th>\n",
       "      <th>Country_Code</th>\n",
       "      <th>Country_Name</th>\n",
       "      <th>Continent</th>\n",
       "      <th>Population</th>\n",
       "      <th>people_fully_vaccinated</th>\n",
       "      <th>median_age</th>\n",
       "      <th>total_cases</th>\n",
       "      <th>total_deaths</th>\n",
       "      <th>life_expectancy</th>\n",
       "      <th>human_development_index</th>\n",
       "      <th>...</th>\n",
       "      <th>divorce_choice</th>\n",
       "      <th>bank_account</th>\n",
       "      <th>business_ownership</th>\n",
       "      <th>contract_signature</th>\n",
       "      <th>domestic_travel</th>\n",
       "      <th>international_travel</th>\n",
       "      <th>work_at_night</th>\n",
       "      <th>dangerous_job</th>\n",
       "      <th>industrial_job</th>\n",
       "      <th>remarry</th>\n",
       "    </tr>\n",
       "  </thead>\n",
       "  <tbody>\n",
       "    <tr>\n",
       "      <th>0</th>\n",
       "      <td>ABW</td>\n",
       "      <td>Aruba</td>\n",
       "      <td>North America</td>\n",
       "      <td>106459</td>\n",
       "      <td>32884.252330</td>\n",
       "      <td>41.200000</td>\n",
       "      <td>21306.44720</td>\n",
       "      <td>142.327640</td>\n",
       "      <td>76.29</td>\n",
       "      <td>0.690681</td>\n",
       "      <td>...</td>\n",
       "      <td>0</td>\n",
       "      <td>1</td>\n",
       "      <td>1</td>\n",
       "      <td>0</td>\n",
       "      <td>1</td>\n",
       "      <td>1</td>\n",
       "      <td>1</td>\n",
       "      <td>1</td>\n",
       "      <td>1</td>\n",
       "      <td>1</td>\n",
       "    </tr>\n",
       "    <tr>\n",
       "      <th>1</th>\n",
       "      <td>AFG</td>\n",
       "      <td>Afghanistan</td>\n",
       "      <td>Asia</td>\n",
       "      <td>41128772</td>\n",
       "      <td>723061.459200</td>\n",
       "      <td>18.600000</td>\n",
       "      <td>122011.07150</td>\n",
       "      <td>4977.338772</td>\n",
       "      <td>64.83</td>\n",
       "      <td>0.511000</td>\n",
       "      <td>...</td>\n",
       "      <td>0</td>\n",
       "      <td>1</td>\n",
       "      <td>1</td>\n",
       "      <td>0</td>\n",
       "      <td>1</td>\n",
       "      <td>0</td>\n",
       "      <td>0</td>\n",
       "      <td>0</td>\n",
       "      <td>0</td>\n",
       "      <td>0</td>\n",
       "    </tr>\n",
       "    <tr>\n",
       "      <th>2</th>\n",
       "      <td>AGO</td>\n",
       "      <td>Angola</td>\n",
       "      <td>Africa</td>\n",
       "      <td>35588996</td>\n",
       "      <td>325527.213700</td>\n",
       "      <td>16.800000</td>\n",
       "      <td>56850.80497</td>\n",
       "      <td>1143.634033</td>\n",
       "      <td>61.15</td>\n",
       "      <td>0.581000</td>\n",
       "      <td>...</td>\n",
       "      <td>1</td>\n",
       "      <td>1</td>\n",
       "      <td>1</td>\n",
       "      <td>1</td>\n",
       "      <td>1</td>\n",
       "      <td>1</td>\n",
       "      <td>1</td>\n",
       "      <td>0</td>\n",
       "      <td>0</td>\n",
       "      <td>1</td>\n",
       "    </tr>\n",
       "    <tr>\n",
       "      <th>3</th>\n",
       "      <td>ALB</td>\n",
       "      <td>Albania</td>\n",
       "      <td>Europe</td>\n",
       "      <td>2842318</td>\n",
       "      <td>127356.554000</td>\n",
       "      <td>38.000000</td>\n",
       "      <td>175928.43510</td>\n",
       "      <td>2275.651127</td>\n",
       "      <td>78.57</td>\n",
       "      <td>0.795000</td>\n",
       "      <td>...</td>\n",
       "      <td>1</td>\n",
       "      <td>1</td>\n",
       "      <td>1</td>\n",
       "      <td>1</td>\n",
       "      <td>1</td>\n",
       "      <td>1</td>\n",
       "      <td>1</td>\n",
       "      <td>1</td>\n",
       "      <td>1</td>\n",
       "      <td>1</td>\n",
       "    </tr>\n",
       "    <tr>\n",
       "      <th>4</th>\n",
       "      <td>AND</td>\n",
       "      <td>Andorra</td>\n",
       "      <td>Europe</td>\n",
       "      <td>79843</td>\n",
       "      <td>1542.322455</td>\n",
       "      <td>31.888298</td>\n",
       "      <td>23705.44134</td>\n",
       "      <td>113.786325</td>\n",
       "      <td>83.73</td>\n",
       "      <td>0.868000</td>\n",
       "      <td>...</td>\n",
       "      <td>0</td>\n",
       "      <td>1</td>\n",
       "      <td>1</td>\n",
       "      <td>0</td>\n",
       "      <td>1</td>\n",
       "      <td>1</td>\n",
       "      <td>1</td>\n",
       "      <td>1</td>\n",
       "      <td>1</td>\n",
       "      <td>0</td>\n",
       "    </tr>\n",
       "  </tbody>\n",
       "</table>\n",
       "<p>5 rows × 36 columns</p>\n",
       "</div>"
      ],
      "text/plain": [
       "  Country_Code Country_Name      Continent  Population  \\\n",
       "0          ABW        Aruba  North America      106459   \n",
       "1          AFG  Afghanistan           Asia    41128772   \n",
       "2          AGO       Angola         Africa    35588996   \n",
       "3          ALB      Albania         Europe     2842318   \n",
       "4          AND      Andorra         Europe       79843   \n",
       "\n",
       "   people_fully_vaccinated  median_age   total_cases  total_deaths  \\\n",
       "0             32884.252330   41.200000   21306.44720    142.327640   \n",
       "1            723061.459200   18.600000  122011.07150   4977.338772   \n",
       "2            325527.213700   16.800000   56850.80497   1143.634033   \n",
       "3            127356.554000   38.000000  175928.43510   2275.651127   \n",
       "4              1542.322455   31.888298   23705.44134    113.786325   \n",
       "\n",
       "   life_expectancy  human_development_index  ...  divorce_choice  \\\n",
       "0            76.29                 0.690681  ...               0   \n",
       "1            64.83                 0.511000  ...               0   \n",
       "2            61.15                 0.581000  ...               1   \n",
       "3            78.57                 0.795000  ...               1   \n",
       "4            83.73                 0.868000  ...               0   \n",
       "\n",
       "   bank_account  business_ownership  contract_signature  domestic_travel  \\\n",
       "0             1                   1                   0                1   \n",
       "1             1                   1                   0                1   \n",
       "2             1                   1                   1                1   \n",
       "3             1                   1                   1                1   \n",
       "4             1                   1                   0                1   \n",
       "\n",
       "   international_travel  work_at_night dangerous_job  industrial_job remarry  \n",
       "0                     1              1             1               1       1  \n",
       "1                     0              0             0               0       0  \n",
       "2                     1              1             0               0       1  \n",
       "3                     1              1             1               1       1  \n",
       "4                     1              1             1               1       0  \n",
       "\n",
       "[5 rows x 36 columns]"
      ]
     },
     "execution_count": 31,
     "metadata": {},
     "output_type": "execute_result"
    }
   ],
   "source": [
    "file_path = Path(\"Covid_FinalProject.csv\")\n",
    "data = pd.read_csv(file_path)\n",
    "data.head()"
   ]
  },
  {
   "cell_type": "markdown",
   "id": "e42f9e66",
   "metadata": {
    "scrolled": true
   },
   "source": [
    "##### data.describe()"
   ]
  },
  {
   "cell_type": "code",
   "execution_count": 32,
   "id": "3c40cbba",
   "metadata": {
    "scrolled": true
   },
   "outputs": [
    {
     "name": "stdout",
     "output_type": "stream",
     "text": [
      "                            OLS Regression Results                            \n",
      "==============================================================================\n",
      "Dep. Variable:           total_deaths   R-squared:                       0.058\n",
      "Model:                            OLS   Adj. R-squared:                  0.037\n",
      "Method:                 Least Squares   F-statistic:                     2.783\n",
      "Date:                Sun, 23 Jul 2023   Prob (F-statistic):             0.0433\n",
      "Time:                        15:34:09   Log-Likelihood:                -1730.9\n",
      "No. Observations:                 140   AIC:                             3470.\n",
      "Df Residuals:                     136   BIC:                             3482.\n",
      "Df Model:                           3                                         \n",
      "Covariance Type:            nonrobust                                         \n",
      "===================================================================================\n",
      "                      coef    std err          t      P>|t|      [0.025      0.975]\n",
      "-----------------------------------------------------------------------------------\n",
      "const           -5.094e+04   6.84e+04     -0.744      0.458   -1.86e+05    8.44e+04\n",
      "median_age       1751.9201   1032.863      1.696      0.092    -290.630    3794.470\n",
      "life_expectancy   417.4220   1224.801      0.341      0.734   -2004.696    2839.540\n",
      "gdp_per_capita     -0.4658      0.450     -1.034      0.303      -1.356       0.425\n",
      "==============================================================================\n",
      "Omnibus:                      168.791   Durbin-Watson:                   2.036\n",
      "Prob(Omnibus):                  0.000   Jarque-Bera (JB):             4404.357\n",
      "Skew:                           4.636   Prob(JB):                         0.00\n",
      "Kurtosis:                      28.866   Cond. No.                     3.20e+05\n",
      "==============================================================================\n",
      "\n",
      "Notes:\n",
      "[1] Standard Errors assume that the covariance matrix of the errors is correctly specified.\n",
      "[2] The condition number is large, 3.2e+05. This might indicate that there are\n",
      "strong multicollinearity or other numerical problems.\n"
     ]
    }
   ],
   "source": [
    "y = data['total_deaths']\n",
    "X = data[['median_age', 'life_expectancy', 'gdp_per_capita']]\n",
    "# Add a constant to the independent variables (for the intercept term in the regression)\n",
    "X = sm.add_constant(X)\n",
    "# Fit the multivariate regression model\n",
    "model = sm.OLS(y, X).fit()\n",
    "# Print the summary of the regression results\n",
    "print(model.summary())"
   ]
  },
  {
   "cell_type": "code",
   "execution_count": null,
   "id": "bfb65ba5",
   "metadata": {},
   "outputs": [],
   "source": [
    "#Total Deaths"
   ]
  },
  {
   "cell_type": "code",
   "execution_count": 62,
   "id": "f2601e4b",
   "metadata": {},
   "outputs": [],
   "source": [
    "X = data[['Population', 'total_cases']].values\n",
    "y = data['total_deaths'].values"
   ]
  },
  {
   "cell_type": "code",
   "execution_count": 63,
   "id": "6da800e4",
   "metadata": {},
   "outputs": [],
   "source": [
    "X_train, X_test, y_train, y_test = train_test_split(X, y, test_size=0.2, random_state=42)\n",
    "knn_regressor = KNeighborsRegressor(n_neighbors=3)\n",
    "knn_regressor.fit(X_train, y_train)\n",
    "y_pred = knn_regressor.predict(X_test)"
   ]
  },
  {
   "cell_type": "code",
   "execution_count": 64,
   "id": "b4c5a318",
   "metadata": {
    "scrolled": true
   },
   "outputs": [
    {
     "name": "stdout",
     "output_type": "stream",
     "text": [
      "Mean Squared Error: 6681392329.947444\n",
      "R-squared: 0.10761003489600729\n"
     ]
    }
   ],
   "source": [
    "mse = mean_squared_error(y_test, y_pred)\n",
    "r2 = r2_score(y_test, y_pred)\n",
    "print(\"Mean Squared Error:\", mse)\n",
    "print(\"R-squared:\", r2)"
   ]
  },
  {
   "cell_type": "code",
   "execution_count": 72,
   "id": "25088fa0",
   "metadata": {
    "scrolled": true
   },
   "outputs": [
    {
     "data": {
      "image/png": "[encoded data removed]",
      "text/plain": [
       "<Figure size 432x288 with 1 Axes>"
      ]
     },
     "metadata": {
      "needs_background": "light"
     },
     "output_type": "display_data"
    }
   ],
   "source": [
    "plt.scatter(y_test, y_pred, alpha=0.5)\n",
    "plt.plot([min(y_test), max(y_test)], [min(y_test), max(y_test)], 'r--')\n",
    "plt.xlabel(\"Actual Death Rate\")\n",
    "plt.ylabel(\"Predicted Death Rate\")\n",
    "plt.title(\"Actual Rate vs. Predicted Death Rate\")\n",
    "plt.show()"
   ]
  },
  {
   "cell_type": "code",
   "execution_count": null,
   "id": "7a7c4fd2",
   "metadata": {},
   "outputs": [],
   "source": [
    "#Death Rates of Vacinated vs. Unnvacinated "
   ]
  },
  {
   "cell_type": "code",
   "execution_count": 44,
   "id": "c802090a",
   "metadata": {
    "scrolled": true
   },
   "outputs": [
    {
     "data": {
      "text/html": [
       "<div>\n",
       "<style scoped>\n",
       "    .dataframe tbody tr th:only-of-type {\n",
       "        vertical-align: middle;\n",
       "    }\n",
       "\n",
       "    .dataframe tbody tr th {\n",
       "        vertical-align: top;\n",
       "    }\n",
       "\n",
       "    .dataframe thead th {\n",
       "        text-align: right;\n",
       "    }\n",
       "</style>\n",
       "<table border=\"1\" class=\"dataframe\">\n",
       "  <thead>\n",
       "    <tr style=\"text-align: right;\">\n",
       "      <th></th>\n",
       "      <th>Country_Code</th>\n",
       "      <th>Country_Name</th>\n",
       "      <th>Continent</th>\n",
       "      <th>Population</th>\n",
       "      <th>people_fully_vaccinated</th>\n",
       "      <th>median_age</th>\n",
       "      <th>total_cases</th>\n",
       "      <th>total_deaths</th>\n",
       "      <th>life_expectancy</th>\n",
       "      <th>human_development_index</th>\n",
       "      <th>...</th>\n",
       "      <th>business_ownership</th>\n",
       "      <th>contract_signature</th>\n",
       "      <th>domestic_travel</th>\n",
       "      <th>international_travel</th>\n",
       "      <th>work_at_night</th>\n",
       "      <th>dangerous_job</th>\n",
       "      <th>industrial_job</th>\n",
       "      <th>remarry</th>\n",
       "      <th>Percentage_Vaccinated</th>\n",
       "      <th>Percentage_Not_Vaccinated</th>\n",
       "    </tr>\n",
       "  </thead>\n",
       "  <tbody>\n",
       "    <tr>\n",
       "      <th>0</th>\n",
       "      <td>ABW</td>\n",
       "      <td>Aruba</td>\n",
       "      <td>North America</td>\n",
       "      <td>106459</td>\n",
       "      <td>32884.252330</td>\n",
       "      <td>41.200000</td>\n",
       "      <td>21306.44720</td>\n",
       "      <td>142.327640</td>\n",
       "      <td>76.29</td>\n",
       "      <td>0.690681</td>\n",
       "      <td>...</td>\n",
       "      <td>1</td>\n",
       "      <td>0</td>\n",
       "      <td>1</td>\n",
       "      <td>1</td>\n",
       "      <td>1</td>\n",
       "      <td>1</td>\n",
       "      <td>1</td>\n",
       "      <td>1</td>\n",
       "      <td>30.89</td>\n",
       "      <td>69.11</td>\n",
       "    </tr>\n",
       "    <tr>\n",
       "      <th>1</th>\n",
       "      <td>AFG</td>\n",
       "      <td>Afghanistan</td>\n",
       "      <td>Asia</td>\n",
       "      <td>41128772</td>\n",
       "      <td>723061.459200</td>\n",
       "      <td>18.600000</td>\n",
       "      <td>122011.07150</td>\n",
       "      <td>4977.338772</td>\n",
       "      <td>64.83</td>\n",
       "      <td>0.511000</td>\n",
       "      <td>...</td>\n",
       "      <td>1</td>\n",
       "      <td>0</td>\n",
       "      <td>1</td>\n",
       "      <td>0</td>\n",
       "      <td>0</td>\n",
       "      <td>0</td>\n",
       "      <td>0</td>\n",
       "      <td>0</td>\n",
       "      <td>1.76</td>\n",
       "      <td>98.24</td>\n",
       "    </tr>\n",
       "    <tr>\n",
       "      <th>2</th>\n",
       "      <td>AGO</td>\n",
       "      <td>Angola</td>\n",
       "      <td>Africa</td>\n",
       "      <td>35588996</td>\n",
       "      <td>325527.213700</td>\n",
       "      <td>16.800000</td>\n",
       "      <td>56850.80497</td>\n",
       "      <td>1143.634033</td>\n",
       "      <td>61.15</td>\n",
       "      <td>0.581000</td>\n",
       "      <td>...</td>\n",
       "      <td>1</td>\n",
       "      <td>1</td>\n",
       "      <td>1</td>\n",
       "      <td>1</td>\n",
       "      <td>1</td>\n",
       "      <td>0</td>\n",
       "      <td>0</td>\n",
       "      <td>1</td>\n",
       "      <td>0.91</td>\n",
       "      <td>99.09</td>\n",
       "    </tr>\n",
       "    <tr>\n",
       "      <th>3</th>\n",
       "      <td>ALB</td>\n",
       "      <td>Albania</td>\n",
       "      <td>Europe</td>\n",
       "      <td>2842318</td>\n",
       "      <td>127356.554000</td>\n",
       "      <td>38.000000</td>\n",
       "      <td>175928.43510</td>\n",
       "      <td>2275.651127</td>\n",
       "      <td>78.57</td>\n",
       "      <td>0.795000</td>\n",
       "      <td>...</td>\n",
       "      <td>1</td>\n",
       "      <td>1</td>\n",
       "      <td>1</td>\n",
       "      <td>1</td>\n",
       "      <td>1</td>\n",
       "      <td>1</td>\n",
       "      <td>1</td>\n",
       "      <td>1</td>\n",
       "      <td>4.48</td>\n",
       "      <td>95.52</td>\n",
       "    </tr>\n",
       "    <tr>\n",
       "      <th>4</th>\n",
       "      <td>AND</td>\n",
       "      <td>Andorra</td>\n",
       "      <td>Europe</td>\n",
       "      <td>79843</td>\n",
       "      <td>1542.322455</td>\n",
       "      <td>31.888298</td>\n",
       "      <td>23705.44134</td>\n",
       "      <td>113.786325</td>\n",
       "      <td>83.73</td>\n",
       "      <td>0.868000</td>\n",
       "      <td>...</td>\n",
       "      <td>1</td>\n",
       "      <td>0</td>\n",
       "      <td>1</td>\n",
       "      <td>1</td>\n",
       "      <td>1</td>\n",
       "      <td>1</td>\n",
       "      <td>1</td>\n",
       "      <td>0</td>\n",
       "      <td>1.93</td>\n",
       "      <td>98.07</td>\n",
       "    </tr>\n",
       "  </tbody>\n",
       "</table>\n",
       "<p>5 rows × 38 columns</p>\n",
       "</div>"
      ],
      "text/plain": [
       "  Country_Code Country_Name      Continent  Population  \\\n",
       "0          ABW        Aruba  North America      106459   \n",
       "1          AFG  Afghanistan           Asia    41128772   \n",
       "2          AGO       Angola         Africa    35588996   \n",
       "3          ALB      Albania         Europe     2842318   \n",
       "4          AND      Andorra         Europe       79843   \n",
       "\n",
       "   people_fully_vaccinated  median_age   total_cases  total_deaths  \\\n",
       "0             32884.252330   41.200000   21306.44720    142.327640   \n",
       "1            723061.459200   18.600000  122011.07150   4977.338772   \n",
       "2            325527.213700   16.800000   56850.80497   1143.634033   \n",
       "3            127356.554000   38.000000  175928.43510   2275.651127   \n",
       "4              1542.322455   31.888298   23705.44134    113.786325   \n",
       "\n",
       "   life_expectancy  human_development_index  ...  business_ownership  \\\n",
       "0            76.29                 0.690681  ...                   1   \n",
       "1            64.83                 0.511000  ...                   1   \n",
       "2            61.15                 0.581000  ...                   1   \n",
       "3            78.57                 0.795000  ...                   1   \n",
       "4            83.73                 0.868000  ...                   1   \n",
       "\n",
       "   contract_signature  domestic_travel  international_travel  work_at_night  \\\n",
       "0                   0                1                     1              1   \n",
       "1                   0                1                     0              0   \n",
       "2                   1                1                     1              1   \n",
       "3                   1                1                     1              1   \n",
       "4                   0                1                     1              1   \n",
       "\n",
       "   dangerous_job  industrial_job remarry  Percentage_Vaccinated  \\\n",
       "0              1               1       1                  30.89   \n",
       "1              0               0       0                   1.76   \n",
       "2              0               0       1                   0.91   \n",
       "3              1               1       1                   4.48   \n",
       "4              1               1       0                   1.93   \n",
       "\n",
       "  Percentage_Not_Vaccinated  \n",
       "0                     69.11  \n",
       "1                     98.24  \n",
       "2                     99.09  \n",
       "3                     95.52  \n",
       "4                     98.07  \n",
       "\n",
       "[5 rows x 38 columns]"
      ]
     },
     "execution_count": 44,
     "metadata": {},
     "output_type": "execute_result"
    }
   ],
   "source": [
    "data_2 = data\n",
    "data_2['Percentage_Vaccinated'] = (data_2['people_fully_vaccinated']/data_2['Population'])*100\n",
    "data_2['Percentage_Not_Vaccinated'] = 100 - data_2['Percentage_Vaccinated']\n",
    "data_2['Percentage_Vaccinated'] = data_2['Percentage_Vaccinated'].round(2)\n",
    "data_2['Percentage_Not_Vaccinated'] = data_2['Percentage_Not_Vaccinated'].round(2)\n",
    "data_2.head()"
   ]
  },
  {
   "cell_type": "code",
   "execution_count": 45,
   "id": "31029c57",
   "metadata": {},
   "outputs": [],
   "source": [
    "X_a = data_2[['Percentage_Vaccinated']]\n",
    "y_a = data_2['total_deaths']\n",
    "\n",
    "X_b = data_2[['Percentage_Not_Vaccinated']]\n",
    "y_b = data_2['total_deaths']"
   ]
  },
  {
   "cell_type": "code",
   "execution_count": 46,
   "id": "992d29a2",
   "metadata": {},
   "outputs": [],
   "source": [
    "X_a = sm.add_constant(X_a)\n",
    "X_b = sm.add_constant(X_b)\n",
    "\n",
    "model_a = sm.OLS(y_a, X_a)\n",
    "results_a = model_a.fit()\n",
    "predictions_a = results_a.predict(X_a)\n",
    "\n",
    "model_b = sm.OLS(y_b, X_b)\n",
    "results_b = model_b.fit()\n",
    "predictions_b = results_b.predict(X_b)\n",
    "\n",
    "predictions_a *= 100\n",
    "predictions_b *= 100"
   ]
  },
  {
   "cell_type": "code",
   "execution_count": 47,
   "id": "10ce928e",
   "metadata": {},
   "outputs": [
    {
     "data": {
      "image/png": "[encoded data removed]",
      "text/plain": [
       "<Figure size 576x432 with 1 Axes>"
      ]
     },
     "metadata": {
      "needs_background": "light"
     },
     "output_type": "display_data"
    },
    {
     "data": {
      "image/png": "[encoded data removed]",
      "text/plain": [
       "<Figure size 576x432 with 1 Axes>"
      ]
     },
     "metadata": {
      "needs_background": "light"
     },
     "output_type": "display_data"
    }
   ],
   "source": [
    "plt.figure(figsize=(8, 6))\n",
    "plt.scatter(X_a['Percentage_Vaccinated'], y_a, color='blue', label='Actual')\n",
    "plt.plot(X_a['Percentage_Vaccinated'], predictions_a, color='red', linewidth=2, label='Predicted')\n",
    "plt.xlabel('Percentage_Vaccinated')\n",
    "plt.ylabel('total_deaths')\n",
    "plt.legend()\n",
    "plt.title('Regression for Percentage_Vaccinated')\n",
    "plt.grid(True)\n",
    "plt.show()\n",
    "\n",
    "plt.figure(figsize=(8, 6))\n",
    "plt.scatter(X_b['Percentage_Not_Vaccinated'], y_b, color='blue', label='Actual')\n",
    "plt.plot(X_b['Percentage_Not_Vaccinated'], predictions_b, color='red', linewidth=2, label='Predicted')\n",
    "plt.xlabel('Percentage_Not_Vaccinated')\n",
    "plt.ylabel('total_deaths')\n",
    "plt.legend()\n",
    "plt.title('Regression for Percentage_Not_Vaccinated')\n",
    "plt.grid(True)\n",
    "plt.show()\n",
    "\n"
   ]
  },
  {
   "cell_type": "code",
   "execution_count": null,
   "id": "2b4210b5",
   "metadata": {},
   "outputs": [],
   "source": [
    "#Covid Cases and GDP per Capita "
   ]
  },
  {
   "cell_type": "code",
   "execution_count": 66,
   "id": "c127c340",
   "metadata": {},
   "outputs": [],
   "source": [
    "X = data[['gdp_per_capita']].values\n",
    "y = data['total_cases'].values"
   ]
  },
  {
   "cell_type": "code",
   "execution_count": 67,
   "id": "81913159",
   "metadata": {},
   "outputs": [],
   "source": [
    "X_train, X_test, y_train, y_test = train_test_split(X, y, test_size=0.2, random_state=42)"
   ]
  },
  {
   "cell_type": "code",
   "execution_count": 69,
   "id": "639d1f9c",
   "metadata": {},
   "outputs": [],
   "source": [
    "linear_reg = LinearRegression()\n",
    "linear_reg.fit(X_train, y_train)\n",
    "\n",
    "y_pred = linear_reg.predict(X_test)\n",
    "mse = mean_squared_error(y_test, y_pred)"
   ]
  },
  {
   "cell_type": "code",
   "execution_count": 71,
   "id": "bf8ba499",
   "metadata": {},
   "outputs": [
    {
     "data": {
      "image/png": "[encoded data removed]",
      "text/plain": [
       "<Figure size 432x288 with 1 Axes>"
      ]
     },
     "metadata": {
      "needs_background": "light"
     },
     "output_type": "display_data"
    }
   ],
   "source": [
    "plt.scatter(X_test, y_test, color='blue', alpha=0.5)\n",
    "plt.plot(X_test, y_pred, color='red', linewidth=2)\n",
    "plt.xlabel('GDP per Capita')\n",
    "plt.ylabel('Total COVID-19 Cases')\n",
    "plt.title('GDP per Capita vs. Total COVID-19 Cases')\n",
    "plt.show()\n"
   ]
  },
  {
   "cell_type": "code",
   "execution_count": null,
   "id": "2a29e126",
   "metadata": {},
   "outputs": [],
   "source": []
  }
 ],
 "metadata": {
  "kernelspec": {
   "display_name": "Python 3 (ipykernel)",
   "language": "python",
   "name": "python3"
  },
  "language_info": {
   "codemirror_mode": {
    "name": "ipython",
    "version": 3
   },
   "file_extension": ".py",
   "mimetype": "text/x-python",
   "name": "python",
   "nbconvert_exporter": "python",
   "pygments_lexer": "ipython3",
   "version": "3.7.7"
  }
 },
 "nbformat": 4,
 "nbformat_minor": 5
}
